{
 "cells": [
  {
   "cell_type": "code",
   "execution_count": 86,
   "id": "e5fd25a4",
   "metadata": {},
   "outputs": [],
   "source": [
    "import pandas as pd\n",
    "import numpy as np\n",
    "import seaborn as sns\n",
    "from sklearn.metrics import mean_squared_error\n",
    "from sklearn.linear_model import LinearRegression\n",
    "from sklearn.preprocessing import PolynomialFeatures\n",
    "import matplotlib.pyplot as plt"
   ]
  },
  {
   "cell_type": "code",
   "execution_count": 106,
   "id": "2fee613e",
   "metadata": {},
   "outputs": [],
   "source": [
    "train = pd.read_csv('./data/s02e03_train.csv', parse_dates=['TIME'], infer_datetime_format=True)\n",
    "test = pd.read_csv('./data/s02e03_test.csv', parse_dates=['TIME'], infer_datetime_format=True)"
   ]
  },
  {
   "cell_type": "code",
   "execution_count": 3,
   "id": "137e9532",
   "metadata": {},
   "outputs": [
    {
     "data": {
      "text/html": [
       "<div>\n",
       "<style scoped>\n",
       "    .dataframe tbody tr th:only-of-type {\n",
       "        vertical-align: middle;\n",
       "    }\n",
       "\n",
       "    .dataframe tbody tr th {\n",
       "        vertical-align: top;\n",
       "    }\n",
       "\n",
       "    .dataframe thead th {\n",
       "        text-align: right;\n",
       "    }\n",
       "</style>\n",
       "<table border=\"1\" class=\"dataframe\">\n",
       "  <thead>\n",
       "    <tr style=\"text-align: right;\">\n",
       "      <th></th>\n",
       "      <th>TRANSPORT</th>\n",
       "      <th>TIME</th>\n",
       "      <th>A</th>\n",
       "      <th>B</th>\n",
       "      <th>SPEED</th>\n",
       "    </tr>\n",
       "  </thead>\n",
       "  <tbody>\n",
       "    <tr>\n",
       "      <th>0</th>\n",
       "      <td>CARGO_15100</td>\n",
       "      <td>1859-11-25 10:16:40</td>\n",
       "      <td>Steamdrift</td>\n",
       "      <td>Rustport</td>\n",
       "      <td>74.09</td>\n",
       "    </tr>\n",
       "    <tr>\n",
       "      <th>1</th>\n",
       "      <td>CARGO_15101</td>\n",
       "      <td>1859-11-26 03:58:07</td>\n",
       "      <td>Rustport</td>\n",
       "      <td>Irondale</td>\n",
       "      <td>73.60</td>\n",
       "    </tr>\n",
       "    <tr>\n",
       "      <th>2</th>\n",
       "      <td>CARGO_15101</td>\n",
       "      <td>1859-11-26 13:02:07</td>\n",
       "      <td>Irondale</td>\n",
       "      <td>Leverstorm</td>\n",
       "      <td>69.37</td>\n",
       "    </tr>\n",
       "    <tr>\n",
       "      <th>3</th>\n",
       "      <td>CARGO_15102</td>\n",
       "      <td>1859-11-26 19:55:34</td>\n",
       "      <td>Leverstorm</td>\n",
       "      <td>Copperhold</td>\n",
       "      <td>82.58</td>\n",
       "    </tr>\n",
       "    <tr>\n",
       "      <th>4</th>\n",
       "      <td>CARGO_15102</td>\n",
       "      <td>1859-11-27 09:23:42</td>\n",
       "      <td>Copperhold</td>\n",
       "      <td>Cogburg</td>\n",
       "      <td>77.73</td>\n",
       "    </tr>\n",
       "    <tr>\n",
       "      <th>...</th>\n",
       "      <td>...</td>\n",
       "      <td>...</td>\n",
       "      <td>...</td>\n",
       "      <td>...</td>\n",
       "      <td>...</td>\n",
       "    </tr>\n",
       "    <tr>\n",
       "      <th>3663</th>\n",
       "      <td>CARGO_17486</td>\n",
       "      <td>1859-12-10 06:38:30</td>\n",
       "      <td>Cogburg</td>\n",
       "      <td>Steamdrift</td>\n",
       "      <td>71.05</td>\n",
       "    </tr>\n",
       "    <tr>\n",
       "      <th>3664</th>\n",
       "      <td>CARGO_17487</td>\n",
       "      <td>1859-12-10 22:53:48</td>\n",
       "      <td>Steamdrift</td>\n",
       "      <td>Cogburg</td>\n",
       "      <td>78.07</td>\n",
       "    </tr>\n",
       "    <tr>\n",
       "      <th>3665</th>\n",
       "      <td>CARGO_17487</td>\n",
       "      <td>1859-12-11 10:53:15</td>\n",
       "      <td>Cogburg</td>\n",
       "      <td>Irondale</td>\n",
       "      <td>86.23</td>\n",
       "    </tr>\n",
       "    <tr>\n",
       "      <th>3666</th>\n",
       "      <td>CARGO_17488</td>\n",
       "      <td>1859-12-12 02:55:11</td>\n",
       "      <td>Irondale</td>\n",
       "      <td>Rustport</td>\n",
       "      <td>81.21</td>\n",
       "    </tr>\n",
       "    <tr>\n",
       "      <th>3667</th>\n",
       "      <td>CARGO_17489</td>\n",
       "      <td>1859-12-12 18:01:48</td>\n",
       "      <td>Rustport</td>\n",
       "      <td>Gizbourne</td>\n",
       "      <td>80.74</td>\n",
       "    </tr>\n",
       "  </tbody>\n",
       "</table>\n",
       "<p>3668 rows × 5 columns</p>\n",
       "</div>"
      ],
      "text/plain": [
       "        TRANSPORT                TIME           A           B  SPEED\n",
       "0     CARGO_15100 1859-11-25 10:16:40  Steamdrift    Rustport  74.09\n",
       "1     CARGO_15101 1859-11-26 03:58:07    Rustport    Irondale  73.60\n",
       "2     CARGO_15101 1859-11-26 13:02:07    Irondale  Leverstorm  69.37\n",
       "3     CARGO_15102 1859-11-26 19:55:34  Leverstorm  Copperhold  82.58\n",
       "4     CARGO_15102 1859-11-27 09:23:42  Copperhold     Cogburg  77.73\n",
       "...           ...                 ...         ...         ...    ...\n",
       "3663  CARGO_17486 1859-12-10 06:38:30     Cogburg  Steamdrift  71.05\n",
       "3664  CARGO_17487 1859-12-10 22:53:48  Steamdrift     Cogburg  78.07\n",
       "3665  CARGO_17487 1859-12-11 10:53:15     Cogburg    Irondale  86.23\n",
       "3666  CARGO_17488 1859-12-12 02:55:11    Irondale    Rustport  81.21\n",
       "3667  CARGO_17489 1859-12-12 18:01:48    Rustport   Gizbourne  80.74\n",
       "\n",
       "[3668 rows x 5 columns]"
      ]
     },
     "execution_count": 3,
     "metadata": {},
     "output_type": "execute_result"
    }
   ],
   "source": [
    "train"
   ]
  },
  {
   "cell_type": "markdown",
   "id": "f2180237",
   "metadata": {},
   "source": [
    "## Model based on average speed"
   ]
  },
  {
   "cell_type": "code",
   "execution_count": 4,
   "id": "74f69319",
   "metadata": {},
   "outputs": [],
   "source": [
    "# Compute average speed\n",
    "def prediction_based_on_avg(A,B):\n",
    "    grouped = train.groupby(['A','B'])['SPEED'].agg(np.mean)\n",
    "    return grouped[A,B]"
   ]
  },
  {
   "cell_type": "code",
   "execution_count": 5,
   "id": "e9d301bb",
   "metadata": {},
   "outputs": [
    {
     "data": {
      "text/plain": [
       "77.93559322033899"
      ]
     },
     "execution_count": 5,
     "metadata": {},
     "output_type": "execute_result"
    }
   ],
   "source": [
    "prediction_based_on_avg('Gizbourne','Rustport')"
   ]
  },
  {
   "cell_type": "code",
   "execution_count": 7,
   "id": "c99698e2",
   "metadata": {},
   "outputs": [],
   "source": [
    "y_pred = test.apply(lambda row : prediction_based_on_avg(row['A'],\n",
    "                                  row['B']), axis = 1)"
   ]
  },
  {
   "cell_type": "code",
   "execution_count": 9,
   "id": "5111227c",
   "metadata": {},
   "outputs": [
    {
     "data": {
      "text/plain": [
       "52.551138978521706"
      ]
     },
     "execution_count": 9,
     "metadata": {},
     "output_type": "execute_result"
    }
   ],
   "source": [
    "mean_squared_error(test.SPEED, y_pred)"
   ]
  },
  {
   "cell_type": "markdown",
   "id": "17ee8c7f",
   "metadata": {},
   "source": [
    "For each row in s02e03_test.csv use the trained model to predict travel speed.\n",
    "For each row compute error by computing difference between the observed speed (from the file) and predicted speed (from the model).\n",
    "Aggregate these errors into a single error number by using the Mean Squared Error formula."
   ]
  },
  {
   "cell_type": "markdown",
   "id": "5985b06d",
   "metadata": {},
   "source": [
    "## Linear Model"
   ]
  },
  {
   "cell_type": "code",
   "execution_count": 114,
   "id": "76db3149",
   "metadata": {},
   "outputs": [],
   "source": [
    "def prepare_df(df):\n",
    "    df['MINUTE'] = df['TIME'].apply(lambda time: time.hour*60 + time.minute)\n",
    "    df['DAY'] = df['TIME'].apply(lambda time: time.dayofweek)\n",
    "    df['HOURxDAY'] = df['HOUR']*df['DAY']\n",
    "    df = df.drop( labels=['TRANSPORT','TIME'], axis=1, inplace=False)\n",
    "    return df"
   ]
  },
  {
   "cell_type": "code",
   "execution_count": 115,
   "id": "91b9aef0",
   "metadata": {},
   "outputs": [
    {
     "data": {
      "text/html": [
       "<div>\n",
       "<style scoped>\n",
       "    .dataframe tbody tr th:only-of-type {\n",
       "        vertical-align: middle;\n",
       "    }\n",
       "\n",
       "    .dataframe tbody tr th {\n",
       "        vertical-align: top;\n",
       "    }\n",
       "\n",
       "    .dataframe thead th {\n",
       "        text-align: right;\n",
       "    }\n",
       "</style>\n",
       "<table border=\"1\" class=\"dataframe\">\n",
       "  <thead>\n",
       "    <tr style=\"text-align: right;\">\n",
       "      <th></th>\n",
       "      <th>A</th>\n",
       "      <th>B</th>\n",
       "      <th>SPEED</th>\n",
       "      <th>HOUR</th>\n",
       "      <th>DAY</th>\n",
       "      <th>HOURxDAY</th>\n",
       "    </tr>\n",
       "  </thead>\n",
       "  <tbody>\n",
       "    <tr>\n",
       "      <th>0</th>\n",
       "      <td>Steamdrift</td>\n",
       "      <td>Rustport</td>\n",
       "      <td>74.09</td>\n",
       "      <td>616</td>\n",
       "      <td>4</td>\n",
       "      <td>2464</td>\n",
       "    </tr>\n",
       "    <tr>\n",
       "      <th>1</th>\n",
       "      <td>Rustport</td>\n",
       "      <td>Irondale</td>\n",
       "      <td>73.60</td>\n",
       "      <td>238</td>\n",
       "      <td>5</td>\n",
       "      <td>1190</td>\n",
       "    </tr>\n",
       "    <tr>\n",
       "      <th>2</th>\n",
       "      <td>Irondale</td>\n",
       "      <td>Leverstorm</td>\n",
       "      <td>69.37</td>\n",
       "      <td>782</td>\n",
       "      <td>5</td>\n",
       "      <td>3910</td>\n",
       "    </tr>\n",
       "    <tr>\n",
       "      <th>3</th>\n",
       "      <td>Leverstorm</td>\n",
       "      <td>Copperhold</td>\n",
       "      <td>82.58</td>\n",
       "      <td>1195</td>\n",
       "      <td>5</td>\n",
       "      <td>5975</td>\n",
       "    </tr>\n",
       "    <tr>\n",
       "      <th>4</th>\n",
       "      <td>Copperhold</td>\n",
       "      <td>Cogburg</td>\n",
       "      <td>77.73</td>\n",
       "      <td>563</td>\n",
       "      <td>6</td>\n",
       "      <td>3378</td>\n",
       "    </tr>\n",
       "    <tr>\n",
       "      <th>...</th>\n",
       "      <td>...</td>\n",
       "      <td>...</td>\n",
       "      <td>...</td>\n",
       "      <td>...</td>\n",
       "      <td>...</td>\n",
       "      <td>...</td>\n",
       "    </tr>\n",
       "    <tr>\n",
       "      <th>3663</th>\n",
       "      <td>Cogburg</td>\n",
       "      <td>Steamdrift</td>\n",
       "      <td>71.05</td>\n",
       "      <td>398</td>\n",
       "      <td>5</td>\n",
       "      <td>1990</td>\n",
       "    </tr>\n",
       "    <tr>\n",
       "      <th>3664</th>\n",
       "      <td>Steamdrift</td>\n",
       "      <td>Cogburg</td>\n",
       "      <td>78.07</td>\n",
       "      <td>1373</td>\n",
       "      <td>5</td>\n",
       "      <td>6865</td>\n",
       "    </tr>\n",
       "    <tr>\n",
       "      <th>3665</th>\n",
       "      <td>Cogburg</td>\n",
       "      <td>Irondale</td>\n",
       "      <td>86.23</td>\n",
       "      <td>653</td>\n",
       "      <td>6</td>\n",
       "      <td>3918</td>\n",
       "    </tr>\n",
       "    <tr>\n",
       "      <th>3666</th>\n",
       "      <td>Irondale</td>\n",
       "      <td>Rustport</td>\n",
       "      <td>81.21</td>\n",
       "      <td>175</td>\n",
       "      <td>0</td>\n",
       "      <td>0</td>\n",
       "    </tr>\n",
       "    <tr>\n",
       "      <th>3667</th>\n",
       "      <td>Rustport</td>\n",
       "      <td>Gizbourne</td>\n",
       "      <td>80.74</td>\n",
       "      <td>1081</td>\n",
       "      <td>0</td>\n",
       "      <td>0</td>\n",
       "    </tr>\n",
       "  </tbody>\n",
       "</table>\n",
       "<p>3668 rows × 6 columns</p>\n",
       "</div>"
      ],
      "text/plain": [
       "               A           B  SPEED  HOUR  DAY  HOURxDAY\n",
       "0     Steamdrift    Rustport  74.09   616    4      2464\n",
       "1       Rustport    Irondale  73.60   238    5      1190\n",
       "2       Irondale  Leverstorm  69.37   782    5      3910\n",
       "3     Leverstorm  Copperhold  82.58  1195    5      5975\n",
       "4     Copperhold     Cogburg  77.73   563    6      3378\n",
       "...          ...         ...    ...   ...  ...       ...\n",
       "3663     Cogburg  Steamdrift  71.05   398    5      1990\n",
       "3664  Steamdrift     Cogburg  78.07  1373    5      6865\n",
       "3665     Cogburg    Irondale  86.23   653    6      3918\n",
       "3666    Irondale    Rustport  81.21   175    0         0\n",
       "3667    Rustport   Gizbourne  80.74  1081    0         0\n",
       "\n",
       "[3668 rows x 6 columns]"
      ]
     },
     "execution_count": 115,
     "metadata": {},
     "output_type": "execute_result"
    }
   ],
   "source": [
    "train_final = prepare_df(train)\n",
    "test_final = prepare_df(test)\n",
    "train_final"
   ]
  },
  {
   "cell_type": "code",
   "execution_count": 116,
   "id": "9ea38cd2",
   "metadata": {},
   "outputs": [],
   "source": [
    "def simple_model(A,B):\n",
    "    train = train_final.loc[(train_final.A==A)&(train_final.B==B),:] #df_historical.loc[(df_historical.LOCATION_FROM==From) &(df_historical.LOCATION_TO == To),:]\n",
    "    test  = test_final.loc[(test_final.A==A)&(test_final.B==B),:]\n",
    "    X_train = train['HOURxDAY'].values.reshape(-1, 1)\n",
    "    y_train = train['SPEED']\n",
    "    X_test = test['HOURxDAY'].values.reshape(-1, 1)\n",
    "    y_test = test['SPEED']\n",
    "    #print(y_test)\n",
    "    model = LinearRegression(fit_intercept = True)\n",
    "    model.fit(X_train, y_train)\n",
    "    y_pred = model.predict(X_test)\n",
    "    mse = mean_squared_error(y_test, y_pred)\n",
    "    return mse\n"
   ]
  },
  {
   "cell_type": "code",
   "execution_count": 117,
   "id": "93be6dc3",
   "metadata": {},
   "outputs": [
    {
     "data": {
      "text/plain": [
       "28.415732992741503"
      ]
     },
     "execution_count": 117,
     "metadata": {},
     "output_type": "execute_result"
    }
   ],
   "source": [
    "simple_model(\"Rustport\",\"Irondale\")"
   ]
  },
  {
   "cell_type": "code",
   "execution_count": 118,
   "id": "74549bdd",
   "metadata": {},
   "outputs": [
    {
     "data": {
      "text/plain": [
       "51.34380196425487"
      ]
     },
     "execution_count": 118,
     "metadata": {},
     "output_type": "execute_result"
    }
   ],
   "source": [
    "list1 = []\n",
    "for k, d in train.groupby(['A','B']):\n",
    "    list1.append(simple_model(k[0],k[1]))\n",
    "    \n",
    "sum(list1)/len(list1)"
   ]
  },
  {
   "cell_type": "code",
   "execution_count": null,
   "id": "0bc0e61f",
   "metadata": {},
   "outputs": [],
   "source": []
  }
 ],
 "metadata": {
  "kernelspec": {
   "display_name": "Python 3 (ipykernel)",
   "language": "python",
   "name": "python3"
  },
  "language_info": {
   "codemirror_mode": {
    "name": "ipython",
    "version": 3
   },
   "file_extension": ".py",
   "mimetype": "text/x-python",
   "name": "python",
   "nbconvert_exporter": "python",
   "pygments_lexer": "ipython3",
   "version": "3.9.9"
  }
 },
 "nbformat": 4,
 "nbformat_minor": 5
}
