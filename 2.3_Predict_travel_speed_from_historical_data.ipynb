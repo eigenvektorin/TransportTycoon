{
 "cells": [
  {
   "cell_type": "code",
   "execution_count": 98,
   "id": "e5fd25a4",
   "metadata": {},
   "outputs": [],
   "source": [
    "import pandas as pd\n",
    "import numpy as np\n",
    "import seaborn as sns\n",
    "from sklearn.metrics import mean_squared_error\n",
    "from sklearn.linear_model import LinearRegression\n",
    "from sklearn.preprocessing import PolynomialFeatures\n",
    "from sklearn import svm\n",
    "import matplotlib.pyplot as plt\n"
   ]
  },
  {
   "cell_type": "code",
   "execution_count": 99,
   "id": "2fee613e",
   "metadata": {},
   "outputs": [],
   "source": [
    "train = pd.read_csv('./data/s02e03_train.csv', parse_dates=['TIME'], infer_datetime_format=True)\n",
    "test = pd.read_csv('./data/s02e03_test.csv', parse_dates=['TIME'], infer_datetime_format=True)"
   ]
  },
  {
   "cell_type": "code",
   "execution_count": 100,
   "id": "137e9532",
   "metadata": {},
   "outputs": [
    {
     "data": {
      "text/html": [
       "<div>\n",
       "<style scoped>\n",
       "    .dataframe tbody tr th:only-of-type {\n",
       "        vertical-align: middle;\n",
       "    }\n",
       "\n",
       "    .dataframe tbody tr th {\n",
       "        vertical-align: top;\n",
       "    }\n",
       "\n",
       "    .dataframe thead th {\n",
       "        text-align: right;\n",
       "    }\n",
       "</style>\n",
       "<table border=\"1\" class=\"dataframe\">\n",
       "  <thead>\n",
       "    <tr style=\"text-align: right;\">\n",
       "      <th></th>\n",
       "      <th>TRANSPORT</th>\n",
       "      <th>TIME</th>\n",
       "      <th>A</th>\n",
       "      <th>B</th>\n",
       "      <th>SPEED</th>\n",
       "    </tr>\n",
       "  </thead>\n",
       "  <tbody>\n",
       "    <tr>\n",
       "      <th>0</th>\n",
       "      <td>CARGO_15100</td>\n",
       "      <td>1859-11-25 10:16:40</td>\n",
       "      <td>Steamdrift</td>\n",
       "      <td>Rustport</td>\n",
       "      <td>74.09</td>\n",
       "    </tr>\n",
       "    <tr>\n",
       "      <th>1</th>\n",
       "      <td>CARGO_15101</td>\n",
       "      <td>1859-11-26 03:58:07</td>\n",
       "      <td>Rustport</td>\n",
       "      <td>Irondale</td>\n",
       "      <td>73.60</td>\n",
       "    </tr>\n",
       "    <tr>\n",
       "      <th>2</th>\n",
       "      <td>CARGO_15101</td>\n",
       "      <td>1859-11-26 13:02:07</td>\n",
       "      <td>Irondale</td>\n",
       "      <td>Leverstorm</td>\n",
       "      <td>69.37</td>\n",
       "    </tr>\n",
       "    <tr>\n",
       "      <th>3</th>\n",
       "      <td>CARGO_15102</td>\n",
       "      <td>1859-11-26 19:55:34</td>\n",
       "      <td>Leverstorm</td>\n",
       "      <td>Copperhold</td>\n",
       "      <td>82.58</td>\n",
       "    </tr>\n",
       "    <tr>\n",
       "      <th>4</th>\n",
       "      <td>CARGO_15102</td>\n",
       "      <td>1859-11-27 09:23:42</td>\n",
       "      <td>Copperhold</td>\n",
       "      <td>Cogburg</td>\n",
       "      <td>77.73</td>\n",
       "    </tr>\n",
       "    <tr>\n",
       "      <th>...</th>\n",
       "      <td>...</td>\n",
       "      <td>...</td>\n",
       "      <td>...</td>\n",
       "      <td>...</td>\n",
       "      <td>...</td>\n",
       "    </tr>\n",
       "    <tr>\n",
       "      <th>3663</th>\n",
       "      <td>CARGO_17486</td>\n",
       "      <td>1859-12-10 06:38:30</td>\n",
       "      <td>Cogburg</td>\n",
       "      <td>Steamdrift</td>\n",
       "      <td>71.05</td>\n",
       "    </tr>\n",
       "    <tr>\n",
       "      <th>3664</th>\n",
       "      <td>CARGO_17487</td>\n",
       "      <td>1859-12-10 22:53:48</td>\n",
       "      <td>Steamdrift</td>\n",
       "      <td>Cogburg</td>\n",
       "      <td>78.07</td>\n",
       "    </tr>\n",
       "    <tr>\n",
       "      <th>3665</th>\n",
       "      <td>CARGO_17487</td>\n",
       "      <td>1859-12-11 10:53:15</td>\n",
       "      <td>Cogburg</td>\n",
       "      <td>Irondale</td>\n",
       "      <td>86.23</td>\n",
       "    </tr>\n",
       "    <tr>\n",
       "      <th>3666</th>\n",
       "      <td>CARGO_17488</td>\n",
       "      <td>1859-12-12 02:55:11</td>\n",
       "      <td>Irondale</td>\n",
       "      <td>Rustport</td>\n",
       "      <td>81.21</td>\n",
       "    </tr>\n",
       "    <tr>\n",
       "      <th>3667</th>\n",
       "      <td>CARGO_17489</td>\n",
       "      <td>1859-12-12 18:01:48</td>\n",
       "      <td>Rustport</td>\n",
       "      <td>Gizbourne</td>\n",
       "      <td>80.74</td>\n",
       "    </tr>\n",
       "  </tbody>\n",
       "</table>\n",
       "<p>3668 rows × 5 columns</p>\n",
       "</div>"
      ],
      "text/plain": [
       "        TRANSPORT                TIME           A           B  SPEED\n",
       "0     CARGO_15100 1859-11-25 10:16:40  Steamdrift    Rustport  74.09\n",
       "1     CARGO_15101 1859-11-26 03:58:07    Rustport    Irondale  73.60\n",
       "2     CARGO_15101 1859-11-26 13:02:07    Irondale  Leverstorm  69.37\n",
       "3     CARGO_15102 1859-11-26 19:55:34  Leverstorm  Copperhold  82.58\n",
       "4     CARGO_15102 1859-11-27 09:23:42  Copperhold     Cogburg  77.73\n",
       "...           ...                 ...         ...         ...    ...\n",
       "3663  CARGO_17486 1859-12-10 06:38:30     Cogburg  Steamdrift  71.05\n",
       "3664  CARGO_17487 1859-12-10 22:53:48  Steamdrift     Cogburg  78.07\n",
       "3665  CARGO_17487 1859-12-11 10:53:15     Cogburg    Irondale  86.23\n",
       "3666  CARGO_17488 1859-12-12 02:55:11    Irondale    Rustport  81.21\n",
       "3667  CARGO_17489 1859-12-12 18:01:48    Rustport   Gizbourne  80.74\n",
       "\n",
       "[3668 rows x 5 columns]"
      ]
     },
     "execution_count": 100,
     "metadata": {},
     "output_type": "execute_result"
    }
   ],
   "source": [
    "train"
   ]
  },
  {
   "cell_type": "markdown",
   "id": "f2180237",
   "metadata": {},
   "source": [
    "## Model based on average speed"
   ]
  },
  {
   "cell_type": "code",
   "execution_count": 101,
   "id": "74f69319",
   "metadata": {},
   "outputs": [],
   "source": [
    "# Compute average speed\n",
    "def prediction_based_on_avg(A,B):\n",
    "    grouped = train.groupby(['A','B'])['SPEED'].agg(np.mean)\n",
    "    return grouped[A,B]"
   ]
  },
  {
   "cell_type": "code",
   "execution_count": 102,
   "id": "e9d301bb",
   "metadata": {},
   "outputs": [
    {
     "data": {
      "text/plain": [
       "77.93559322033899"
      ]
     },
     "execution_count": 102,
     "metadata": {},
     "output_type": "execute_result"
    }
   ],
   "source": [
    "prediction_based_on_avg('Gizbourne','Rustport')"
   ]
  },
  {
   "cell_type": "code",
   "execution_count": 103,
   "id": "c99698e2",
   "metadata": {},
   "outputs": [],
   "source": [
    "y_pred = test.apply(lambda row : prediction_based_on_avg(row['A'],\n",
    "                                  row['B']), axis = 1)"
   ]
  },
  {
   "cell_type": "code",
   "execution_count": 104,
   "id": "5111227c",
   "metadata": {},
   "outputs": [
    {
     "data": {
      "text/plain": [
       "52.551138978521706"
      ]
     },
     "execution_count": 104,
     "metadata": {},
     "output_type": "execute_result"
    }
   ],
   "source": [
    "mean_squared_error(test.SPEED, y_pred)"
   ]
  },
  {
   "cell_type": "markdown",
   "id": "6e54f36d",
   "metadata": {},
   "source": [
    "## Data preparation"
   ]
  },
  {
   "cell_type": "code",
   "execution_count": 105,
   "id": "699f6350",
   "metadata": {},
   "outputs": [],
   "source": [
    "def prepare_df(df):\n",
    "    df['MINUTES'] = df['TIME'].apply(lambda time: time.hour*60 + time.minute)\n",
    "    df['DAY'] = df['TIME'].apply(lambda time: time.dayofweek)\n",
    "    df['MINUTESxDAY'] = df['MINUTES']*df['DAY']\n",
    "    df = df.drop( labels=['TRANSPORT','TIME'], axis=1, inplace=False)\n",
    "    return df"
   ]
  },
  {
   "cell_type": "code",
   "execution_count": 106,
   "id": "c0aab204",
   "metadata": {},
   "outputs": [
    {
     "data": {
      "text/html": [
       "<div>\n",
       "<style scoped>\n",
       "    .dataframe tbody tr th:only-of-type {\n",
       "        vertical-align: middle;\n",
       "    }\n",
       "\n",
       "    .dataframe tbody tr th {\n",
       "        vertical-align: top;\n",
       "    }\n",
       "\n",
       "    .dataframe thead th {\n",
       "        text-align: right;\n",
       "    }\n",
       "</style>\n",
       "<table border=\"1\" class=\"dataframe\">\n",
       "  <thead>\n",
       "    <tr style=\"text-align: right;\">\n",
       "      <th></th>\n",
       "      <th>A</th>\n",
       "      <th>B</th>\n",
       "      <th>SPEED</th>\n",
       "      <th>MINUTES</th>\n",
       "      <th>DAY</th>\n",
       "      <th>MINUTESxDAY</th>\n",
       "    </tr>\n",
       "  </thead>\n",
       "  <tbody>\n",
       "    <tr>\n",
       "      <th>0</th>\n",
       "      <td>Steamdrift</td>\n",
       "      <td>Rustport</td>\n",
       "      <td>74.09</td>\n",
       "      <td>616</td>\n",
       "      <td>4</td>\n",
       "      <td>2464</td>\n",
       "    </tr>\n",
       "    <tr>\n",
       "      <th>1</th>\n",
       "      <td>Rustport</td>\n",
       "      <td>Irondale</td>\n",
       "      <td>73.60</td>\n",
       "      <td>238</td>\n",
       "      <td>5</td>\n",
       "      <td>1190</td>\n",
       "    </tr>\n",
       "    <tr>\n",
       "      <th>2</th>\n",
       "      <td>Irondale</td>\n",
       "      <td>Leverstorm</td>\n",
       "      <td>69.37</td>\n",
       "      <td>782</td>\n",
       "      <td>5</td>\n",
       "      <td>3910</td>\n",
       "    </tr>\n",
       "    <tr>\n",
       "      <th>3</th>\n",
       "      <td>Leverstorm</td>\n",
       "      <td>Copperhold</td>\n",
       "      <td>82.58</td>\n",
       "      <td>1195</td>\n",
       "      <td>5</td>\n",
       "      <td>5975</td>\n",
       "    </tr>\n",
       "    <tr>\n",
       "      <th>4</th>\n",
       "      <td>Copperhold</td>\n",
       "      <td>Cogburg</td>\n",
       "      <td>77.73</td>\n",
       "      <td>563</td>\n",
       "      <td>6</td>\n",
       "      <td>3378</td>\n",
       "    </tr>\n",
       "    <tr>\n",
       "      <th>...</th>\n",
       "      <td>...</td>\n",
       "      <td>...</td>\n",
       "      <td>...</td>\n",
       "      <td>...</td>\n",
       "      <td>...</td>\n",
       "      <td>...</td>\n",
       "    </tr>\n",
       "    <tr>\n",
       "      <th>3663</th>\n",
       "      <td>Cogburg</td>\n",
       "      <td>Steamdrift</td>\n",
       "      <td>71.05</td>\n",
       "      <td>398</td>\n",
       "      <td>5</td>\n",
       "      <td>1990</td>\n",
       "    </tr>\n",
       "    <tr>\n",
       "      <th>3664</th>\n",
       "      <td>Steamdrift</td>\n",
       "      <td>Cogburg</td>\n",
       "      <td>78.07</td>\n",
       "      <td>1373</td>\n",
       "      <td>5</td>\n",
       "      <td>6865</td>\n",
       "    </tr>\n",
       "    <tr>\n",
       "      <th>3665</th>\n",
       "      <td>Cogburg</td>\n",
       "      <td>Irondale</td>\n",
       "      <td>86.23</td>\n",
       "      <td>653</td>\n",
       "      <td>6</td>\n",
       "      <td>3918</td>\n",
       "    </tr>\n",
       "    <tr>\n",
       "      <th>3666</th>\n",
       "      <td>Irondale</td>\n",
       "      <td>Rustport</td>\n",
       "      <td>81.21</td>\n",
       "      <td>175</td>\n",
       "      <td>0</td>\n",
       "      <td>0</td>\n",
       "    </tr>\n",
       "    <tr>\n",
       "      <th>3667</th>\n",
       "      <td>Rustport</td>\n",
       "      <td>Gizbourne</td>\n",
       "      <td>80.74</td>\n",
       "      <td>1081</td>\n",
       "      <td>0</td>\n",
       "      <td>0</td>\n",
       "    </tr>\n",
       "  </tbody>\n",
       "</table>\n",
       "<p>3668 rows × 6 columns</p>\n",
       "</div>"
      ],
      "text/plain": [
       "               A           B  SPEED  MINUTES  DAY  MINUTESxDAY\n",
       "0     Steamdrift    Rustport  74.09      616    4         2464\n",
       "1       Rustport    Irondale  73.60      238    5         1190\n",
       "2       Irondale  Leverstorm  69.37      782    5         3910\n",
       "3     Leverstorm  Copperhold  82.58     1195    5         5975\n",
       "4     Copperhold     Cogburg  77.73      563    6         3378\n",
       "...          ...         ...    ...      ...  ...          ...\n",
       "3663     Cogburg  Steamdrift  71.05      398    5         1990\n",
       "3664  Steamdrift     Cogburg  78.07     1373    5         6865\n",
       "3665     Cogburg    Irondale  86.23      653    6         3918\n",
       "3666    Irondale    Rustport  81.21      175    0            0\n",
       "3667    Rustport   Gizbourne  80.74     1081    0            0\n",
       "\n",
       "[3668 rows x 6 columns]"
      ]
     },
     "execution_count": 106,
     "metadata": {},
     "output_type": "execute_result"
    }
   ],
   "source": [
    "train_final = prepare_df(train)\n",
    "test_final = prepare_df(test)\n",
    "train_final"
   ]
  },
  {
   "cell_type": "code",
   "execution_count": 107,
   "id": "42d72fed",
   "metadata": {},
   "outputs": [
    {
     "data": {
      "text/html": [
       "<div>\n",
       "<style scoped>\n",
       "    .dataframe tbody tr th:only-of-type {\n",
       "        vertical-align: middle;\n",
       "    }\n",
       "\n",
       "    .dataframe tbody tr th {\n",
       "        vertical-align: top;\n",
       "    }\n",
       "\n",
       "    .dataframe thead th {\n",
       "        text-align: right;\n",
       "    }\n",
       "</style>\n",
       "<table border=\"1\" class=\"dataframe\">\n",
       "  <thead>\n",
       "    <tr style=\"text-align: right;\">\n",
       "      <th></th>\n",
       "      <th>A</th>\n",
       "      <th>B</th>\n",
       "      <th>SPEED</th>\n",
       "      <th>MINUTES</th>\n",
       "      <th>DAY</th>\n",
       "      <th>MINUTESxDAY</th>\n",
       "    </tr>\n",
       "  </thead>\n",
       "  <tbody>\n",
       "    <tr>\n",
       "      <th>0</th>\n",
       "      <td>Gizbourne</td>\n",
       "      <td>Rustport</td>\n",
       "      <td>72.17</td>\n",
       "      <td>656</td>\n",
       "      <td>1</td>\n",
       "      <td>656</td>\n",
       "    </tr>\n",
       "    <tr>\n",
       "      <th>1</th>\n",
       "      <td>Rustport</td>\n",
       "      <td>Gizbourne</td>\n",
       "      <td>74.55</td>\n",
       "      <td>198</td>\n",
       "      <td>2</td>\n",
       "      <td>396</td>\n",
       "    </tr>\n",
       "    <tr>\n",
       "      <th>2</th>\n",
       "      <td>Gizbourne</td>\n",
       "      <td>Leverstorm</td>\n",
       "      <td>72.10</td>\n",
       "      <td>918</td>\n",
       "      <td>2</td>\n",
       "      <td>1836</td>\n",
       "    </tr>\n",
       "    <tr>\n",
       "      <th>3</th>\n",
       "      <td>Leverstorm</td>\n",
       "      <td>Irondale</td>\n",
       "      <td>65.32</td>\n",
       "      <td>56</td>\n",
       "      <td>3</td>\n",
       "      <td>168</td>\n",
       "    </tr>\n",
       "    <tr>\n",
       "      <th>4</th>\n",
       "      <td>Irondale</td>\n",
       "      <td>Copperhold</td>\n",
       "      <td>79.35</td>\n",
       "      <td>317</td>\n",
       "      <td>3</td>\n",
       "      <td>951</td>\n",
       "    </tr>\n",
       "    <tr>\n",
       "      <th>...</th>\n",
       "      <td>...</td>\n",
       "      <td>...</td>\n",
       "      <td>...</td>\n",
       "      <td>...</td>\n",
       "      <td>...</td>\n",
       "      <td>...</td>\n",
       "    </tr>\n",
       "    <tr>\n",
       "      <th>912</th>\n",
       "      <td>Copperhold</td>\n",
       "      <td>Leverstorm</td>\n",
       "      <td>80.11</td>\n",
       "      <td>989</td>\n",
       "      <td>1</td>\n",
       "      <td>989</td>\n",
       "    </tr>\n",
       "    <tr>\n",
       "      <th>913</th>\n",
       "      <td>Leverstorm</td>\n",
       "      <td>Irondale</td>\n",
       "      <td>69.92</td>\n",
       "      <td>89</td>\n",
       "      <td>2</td>\n",
       "      <td>178</td>\n",
       "    </tr>\n",
       "    <tr>\n",
       "      <th>914</th>\n",
       "      <td>Irondale</td>\n",
       "      <td>Cogburg</td>\n",
       "      <td>76.30</td>\n",
       "      <td>902</td>\n",
       "      <td>2</td>\n",
       "      <td>1804</td>\n",
       "    </tr>\n",
       "    <tr>\n",
       "      <th>915</th>\n",
       "      <td>Cogburg</td>\n",
       "      <td>Irondale</td>\n",
       "      <td>75.11</td>\n",
       "      <td>288</td>\n",
       "      <td>3</td>\n",
       "      <td>864</td>\n",
       "    </tr>\n",
       "    <tr>\n",
       "      <th>916</th>\n",
       "      <td>Irondale</td>\n",
       "      <td>Copperhold</td>\n",
       "      <td>79.92</td>\n",
       "      <td>547</td>\n",
       "      <td>3</td>\n",
       "      <td>1641</td>\n",
       "    </tr>\n",
       "  </tbody>\n",
       "</table>\n",
       "<p>917 rows × 6 columns</p>\n",
       "</div>"
      ],
      "text/plain": [
       "              A           B  SPEED  MINUTES  DAY  MINUTESxDAY\n",
       "0     Gizbourne    Rustport  72.17      656    1          656\n",
       "1      Rustport   Gizbourne  74.55      198    2          396\n",
       "2     Gizbourne  Leverstorm  72.10      918    2         1836\n",
       "3    Leverstorm    Irondale  65.32       56    3          168\n",
       "4      Irondale  Copperhold  79.35      317    3          951\n",
       "..          ...         ...    ...      ...  ...          ...\n",
       "912  Copperhold  Leverstorm  80.11      989    1          989\n",
       "913  Leverstorm    Irondale  69.92       89    2          178\n",
       "914    Irondale     Cogburg  76.30      902    2         1804\n",
       "915     Cogburg    Irondale  75.11      288    3          864\n",
       "916    Irondale  Copperhold  79.92      547    3         1641\n",
       "\n",
       "[917 rows x 6 columns]"
      ]
     },
     "execution_count": 107,
     "metadata": {},
     "output_type": "execute_result"
    }
   ],
   "source": [
    "test_final"
   ]
  },
  {
   "cell_type": "markdown",
   "id": "17ee8c7f",
   "metadata": {},
   "source": [
    "For each row in s02e03_test.csv use the trained model to predict travel speed.\n",
    "For each row compute error by computing difference between the observed speed (from the file) and predicted speed (from the model).\n",
    "Aggregate these errors into a single error number by using the Mean Squared Error formula."
   ]
  },
  {
   "cell_type": "markdown",
   "id": "5985b06d",
   "metadata": {},
   "source": [
    "## Linear and Polynomial Regression"
   ]
  },
  {
   "cell_type": "code",
   "execution_count": 108,
   "id": "db2d5a4e",
   "metadata": {},
   "outputs": [],
   "source": [
    "def fit_regression(A,B,reg_type,Vars,deg=2):\n",
    "    train = train_final.loc[(train_final.A==A)&(train_final.B==B),:] \n",
    "    y_train = train['SPEED']\n",
    "    \n",
    "    if reg_type == \"linear\":\n",
    "        model = LinearRegression(fit_intercept = True)\n",
    "        if len(Vars) == 1:\n",
    "            X_train = train[Vars].values.reshape(-1, 1)\n",
    "        else:\n",
    "            X_train = train[Vars]\n",
    "            \n",
    "    elif reg_type == \"poly\":\n",
    "        poly = PolynomialFeatures(degree = deg)\n",
    "        model = LinearRegression()\n",
    "        if len(Vars) == 1:\n",
    "            X_train = poly.fit_transform(train[Vars].values.reshape(-1,1))\n",
    "        else:\n",
    "            X_train = poly.fit_transform(train[Vars])\n",
    "    else: \n",
    "        print(\"specify type of regression ('linear' or 'poly')\")\n",
    "    model.fit(X_train, y_train)\n",
    "    return model"
   ]
  },
  {
   "cell_type": "code",
   "execution_count": 109,
   "id": "28e2458f",
   "metadata": {},
   "outputs": [],
   "source": [
    "def evaluate_model(reg_type, Vars, deg=2):\n",
    "    error_sum = 0\n",
    "    for index, row in test_final.iterrows():\n",
    "        A = row['A']\n",
    "        B = row['B']\n",
    "        actual_speed = row['SPEED']\n",
    "        if reg_type == 'linear':\n",
    "            model = fit_regression(A,B,reg_type,Vars)\n",
    "            row = row.to_frame().T\n",
    "            if len(Vars) == 1:\n",
    "                predicted_speed = model.predict(row[Vars].values.reshape(-1, 1))\n",
    "            else:\n",
    "                 predicted_speed = model.predict((row[Vars]))\n",
    "        elif reg_type =='poly':\n",
    "            poly = PolynomialFeatures(degree = deg)\n",
    "            model = fit_regression(A,B,reg_type,Vars,deg)\n",
    "            row = row.to_frame().T\n",
    "            if len(Vars) == 1:\n",
    "                predicted_speed = model.predict( poly.fit_transform(row[Vars].values.reshape(-1,1)))\n",
    "            else:\n",
    "                predicted_speed = model.predict( poly.fit_transform(row[Vars]))\n",
    "        \n",
    "        difference = actual_speed - predicted_speed\n",
    "        square = difference * difference\n",
    "        error_sum += square\n",
    "    mse = error_sum / len(test_final)\n",
    "    print(f\"Mean squared error is {mse}\")"
   ]
  },
  {
   "cell_type": "markdown",
   "id": "a26465e0",
   "metadata": {},
   "source": [
    "### Linear Regression"
   ]
  },
  {
   "cell_type": "code",
   "execution_count": 110,
   "id": "8ff268b5",
   "metadata": {},
   "outputs": [
    {
     "name": "stdout",
     "output_type": "stream",
     "text": [
      "Mean squared error is [50.40269521]\n"
     ]
    }
   ],
   "source": [
    "evaluate_model('linear',['MINUTES'])"
   ]
  },
  {
   "cell_type": "code",
   "execution_count": 111,
   "id": "cbeb0539",
   "metadata": {},
   "outputs": [
    {
     "name": "stdout",
     "output_type": "stream",
     "text": [
      "Mean squared error is [50.66003876]\n"
     ]
    }
   ],
   "source": [
    "evaluate_model('linear',['DAY'])"
   ]
  },
  {
   "cell_type": "code",
   "execution_count": 112,
   "id": "ffcf6f39",
   "metadata": {},
   "outputs": [
    {
     "name": "stdout",
     "output_type": "stream",
     "text": [
      "Mean squared error is [49.04786106]\n"
     ]
    }
   ],
   "source": [
    "evaluate_model('linear',['MINUTES','DAY'])"
   ]
  },
  {
   "cell_type": "markdown",
   "id": "0867222d",
   "metadata": {},
   "source": [
    "### Linear Regression with interaction term (Min * Day)"
   ]
  },
  {
   "cell_type": "code",
   "execution_count": 113,
   "id": "f2996a92",
   "metadata": {},
   "outputs": [
    {
     "name": "stdout",
     "output_type": "stream",
     "text": [
      "Mean squared error is [50.43896464]\n"
     ]
    }
   ],
   "source": [
    "evaluate_model('linear',['MINUTESxDAY'])"
   ]
  },
  {
   "cell_type": "code",
   "execution_count": 114,
   "id": "dfe72bec",
   "metadata": {},
   "outputs": [
    {
     "name": "stdout",
     "output_type": "stream",
     "text": [
      "Mean squared error is [47.95248475]\n"
     ]
    }
   ],
   "source": [
    "evaluate_model('linear',['MINUTES','MINUTESxDAY'])\n",
    "        "
   ]
  },
  {
   "cell_type": "markdown",
   "id": "b6c911c5",
   "metadata": {},
   "source": [
    "### Polynomial Regression (deg =2)"
   ]
  },
  {
   "cell_type": "code",
   "execution_count": 115,
   "id": "e57350d7",
   "metadata": {},
   "outputs": [
    {
     "name": "stdout",
     "output_type": "stream",
     "text": [
      "Mean squared error is [37.85968854]\n"
     ]
    }
   ],
   "source": [
    "evaluate_model('poly',['DAY'])"
   ]
  },
  {
   "cell_type": "code",
   "execution_count": 116,
   "id": "ab0aa0fc",
   "metadata": {},
   "outputs": [
    {
     "name": "stdout",
     "output_type": "stream",
     "text": [
      "Mean squared error is [47.21414962]\n"
     ]
    }
   ],
   "source": [
    "evaluate_model('poly',['MINUTES'])"
   ]
  },
  {
   "cell_type": "code",
   "execution_count": 117,
   "id": "6f926cc5",
   "metadata": {},
   "outputs": [
    {
     "name": "stdout",
     "output_type": "stream",
     "text": [
      "Mean squared error is [31.7801709]\n"
     ]
    }
   ],
   "source": [
    "evaluate_model('poly',['MINUTES','DAY'])"
   ]
  },
  {
   "cell_type": "markdown",
   "id": "784a2239",
   "metadata": {},
   "source": [
    "### Polynomial Regression (deg = 3)"
   ]
  },
  {
   "cell_type": "code",
   "execution_count": 118,
   "id": "03d19845",
   "metadata": {},
   "outputs": [
    {
     "name": "stdout",
     "output_type": "stream",
     "text": [
      "Mean squared error is [28.42678666]\n"
     ]
    }
   ],
   "source": [
    "evaluate_model('poly',['MINUTES','DAY'],3)"
   ]
  },
  {
   "cell_type": "markdown",
   "id": "e290e9b3",
   "metadata": {},
   "source": [
    "## Experiment: SVM Regression"
   ]
  },
  {
   "cell_type": "code",
   "execution_count": null,
   "id": "b16077b5",
   "metadata": {},
   "outputs": [],
   "source": [
    "def train_svm(A,B,Vars):\n",
    "    train = train_final.loc[(train_final.A==A)&(train_final.B==B),:] #df_historical.loc[(df_historical.LOCATION_FROM==From) &(df_historical.LOCATION_TO == To),:]\n",
    "\n",
    "    y_train = train['SPEED']\n",
    "  \n",
    "    if len(Vars) == 1:\n",
    "        X_train = train[Vars].values.reshape(-1, 1)\n",
    "      \n",
    "    else:\n",
    "        X_train = train[Vars]\n",
    "  \n",
    "          \n",
    "    clf = svm.SVR(kernel='linear')\n",
    "    clf.fit(X_train, y_train)\n",
    "    return clf"
   ]
  },
  {
   "cell_type": "code",
   "execution_count": null,
   "id": "14ce289a",
   "metadata": {},
   "outputs": [],
   "source": [
    "def evaluate_svm(Vars):\n",
    "    error_sum = 0\n",
    "    for index, row in test_final.iterrows():\n",
    "        A = row['A']\n",
    "        B = row['B']\n",
    "        actual_speed = row['SPEED']\n",
    "        model = train_svm(A,B,Vars)\n",
    "        row = row.to_frame().T\n",
    "        if len(Vars) == 1:\n",
    "            predicted_speed = model.predict(row[Vars].values.reshape(-1, 1))\n",
    "        else:\n",
    "             predicted_speed = model.predict((row[Vars]))\n",
    "        #predicted_speed = model.predict(np.array(row['MINUTESxDAY']).reshape(-1,1))\n",
    "        difference = actual_speed - predicted_speed\n",
    "        square = difference * difference\n",
    "        error_sum += square\n",
    "    mse = error_sum / len(test_final)\n",
    "    print(f\"Mean squared error is {mse}\")"
   ]
  }
 ],
 "metadata": {
  "kernelspec": {
   "display_name": "Python 3 (ipykernel)",
   "language": "python",
   "name": "python3"
  },
  "language_info": {
   "codemirror_mode": {
    "name": "ipython",
    "version": 3
   },
   "file_extension": ".py",
   "mimetype": "text/x-python",
   "name": "python",
   "nbconvert_exporter": "python",
   "pygments_lexer": "ipython3",
   "version": "3.9.7"
  }
 },
 "nbformat": 4,
 "nbformat_minor": 5
}
